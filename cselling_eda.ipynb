{
 "cells": [
  {
   "cell_type": "markdown",
   "metadata": {},
   "source": [
    "# Module 6: Custom Exploratory Data Analysis\n",
    "**Author: Caleb Sellinger**\n",
    "**Date: 21 February 2025**\n",
    "### Purpose:\n",
    "This project will explore affordable rental housing in the City of Chicago. We will go through the processes, methods, and techniques used to transform and manipulate data, as well as an analysis of the dataset."
   ]
  },
  {
   "cell_type": "markdown",
   "metadata": {},
   "source": [
    "## Section 1: Fetching Data\n",
    "First, we will import any libraries that we need."
   ]
  },
  {
   "cell_type": "code",
   "execution_count": 168,
   "metadata": {},
   "outputs": [],
   "source": [
    "import pathlib\n",
    "import requests\n",
    "import pandas as pd\n",
    "from utils_logger import logger\n",
    "import sqlite3\n",
    "import plotly.express as px"
   ]
  },
  {
   "cell_type": "markdown",
   "metadata": {},
   "source": [
    "Then, we will retrieve the data from the URL and write it into a file following the path \"datasets\" > \"[filename].csv\""
   ]
  },
  {
   "cell_type": "code",
   "execution_count": 169,
   "metadata": {},
   "outputs": [
    {
     "name": "stderr",
     "output_type": "stream",
     "text": [
      "\u001b[32m2025-02-19 23:05:00.421\u001b[0m | \u001b[1mINFO    \u001b[0m | \u001b[36m__main__\u001b[0m:\u001b[36m<module>\u001b[0m:\u001b[36m14\u001b[0m - \u001b[1mRetrieving CSV file from https://data.cityofchicago.org/api/views/s6ha-ppgi/rows.csv?accessType=DOWNLOAD\u001b[0m\n",
      "\u001b[32m2025-02-19 23:05:00.843\u001b[0m | \u001b[1mINFO    \u001b[0m | \u001b[36m__main__\u001b[0m:\u001b[36m<module>\u001b[0m:\u001b[36m24\u001b[0m - \u001b[1mWriting data to file: Affordable_Rental_Housing_Developments.csv\u001b[0m\n",
      "\u001b[32m2025-02-19 23:05:00.844\u001b[0m | \u001b[1mINFO    \u001b[0m | \u001b[36m__main__\u001b[0m:\u001b[36m<module>\u001b[0m:\u001b[36m29\u001b[0m - \u001b[1mSUCCESS: data written to new file Affordable_Rental_Housing_Developments.csv\u001b[0m\n"
     ]
    }
   ],
   "source": [
    "url = \"https://data.cityofchicago.org/api/views/s6ha-ppgi/rows.csv?accessType=DOWNLOAD\"\n",
    "filename = \"Affordable_Rental_Housing_Developments.csv\"\n",
    "folder = \"datasets\"\n",
    "\n",
    "if not url:\n",
    "    logger.error(\n",
    "        \"The URL provided is empty or does not exist. Please provide a valid URL.\"\n",
    "    )\n",
    "\n",
    "file_path = pathlib.Path(folder).joinpath(filename)\n",
    "\n",
    "\"\"\"Retrieves data from URL\"\"\"\n",
    "try:\n",
    "    logger.info(f\"Retrieving CSV file from {url}\")\n",
    "    response = requests.get(url)\n",
    "    response.raise_for_status()\n",
    "except requests.exceptions.HTTPError as http_err:\n",
    "        logger.error(f\"HTTP error: {http_err}\")\n",
    "except requests.exceptions.RequestException as req_err:\n",
    "        logger.error(f\"Request error: {req_err}\")\n",
    "\n",
    "\"\"\"Writes data from URL into file\"\"\"\n",
    "try:\n",
    "    logger.info(f\"Writing data to file: {filename}\")\n",
    "    file_path.parent.mkdir(parents=True, exist_ok=True)\n",
    "    file = file_path.open('w')\n",
    "    file.write(response.text)\n",
    "    file.close()\n",
    "    logger.info(f\"SUCCESS: data written to new file {filename}\")\n",
    "except IOError:\n",
    "    logger.error(f\"Error writing to file: {IOError}\")"
   ]
  },
  {
   "cell_type": "markdown",
   "metadata": {},
   "source": [
    "We can quickly look at what the data by putting it into a dataframe and using the .info() method."
   ]
  },
  {
   "cell_type": "code",
   "execution_count": 170,
   "metadata": {},
   "outputs": [
    {
     "name": "stdout",
     "output_type": "stream",
     "text": [
      "<class 'pandas.core.frame.DataFrame'>\n",
      "RangeIndex: 598 entries, 0 to 597\n",
      "Data columns (total 14 columns):\n",
      " #   Column                 Non-Null Count  Dtype  \n",
      "---  ------                 --------------  -----  \n",
      " 0   Community Area Name    598 non-null    object \n",
      " 1   Community Area Number  598 non-null    int64  \n",
      " 2   Property Type          598 non-null    object \n",
      " 3   Property Name          598 non-null    object \n",
      " 4   Address                598 non-null    object \n",
      " 5   Zip Code               598 non-null    int64  \n",
      " 6   Phone Number           598 non-null    object \n",
      " 7   Management Company     598 non-null    object \n",
      " 8   Units                  597 non-null    float64\n",
      " 9   X Coordinate           598 non-null    float64\n",
      " 10  Y Coordinate           598 non-null    float64\n",
      " 11  Latitude               598 non-null    float64\n",
      " 12  Longitude              598 non-null    float64\n",
      " 13  Location               589 non-null    object \n",
      "dtypes: float64(5), int64(2), object(7)\n",
      "memory usage: 65.5+ KB\n"
     ]
    }
   ],
   "source": [
    "input_file = pathlib.Path(\n",
    "    folder, filename\n",
    ")\n",
    "\n",
    "# was getting a utf-8 decode error, so I changed the encoding to latin-1\n",
    "df = pd.read_csv(input_file, encoding='latin-1')\n",
    "\n",
    "# print(df.head())\n",
    "df.info()"
   ]
  },
  {
   "cell_type": "markdown",
   "metadata": {},
   "source": [
    "Now that we know what the data looks like, we can store it into our database.The following code creates a an SQL table to store our data and a database to put our table in."
   ]
  },
  {
   "cell_type": "code",
   "execution_count": 171,
   "metadata": {},
   "outputs": [
    {
     "name": "stdout",
     "output_type": "stream",
     "text": [
      "Database created successfully.\n",
      "Data inserted successfully.\n"
     ]
    }
   ],
   "source": [
    "# Define the database file in the current root project directory\n",
    "db_file = pathlib.Path(\"db.sqlite3\")\n",
    "\n",
    "\"\"\"Creates a database. Connecting for the first time\n",
    "will create a new database file if it doesn't exist yet.\"\"\"\n",
    "try:\n",
    "    conn = sqlite3.connect(db_file)\n",
    "    conn.close()\n",
    "    print(\"Database created successfully.\")\n",
    "except sqlite3.Error as e:\n",
    "    print(\"Error creating the database:\", e)\n",
    "\n",
    "\"\"\"Inserts the csv data into table.\"\"\"\n",
    "try:\n",
    "    with sqlite3.connect(db_file) as conn:\n",
    "        data_path = pathlib.Path(\"datasets\", \"Affordable_Rental_Housing_Developments.csv\")\n",
    "        df = pd.read_csv(data_path,encoding='latin-1')\n",
    "        # use the pandas DataFrame to_sql() method to insert data\n",
    "        # pass in the table name and the connection\n",
    "        # if_exists drops table if exists\n",
    "        df.to_sql(\"data\", conn, if_exists=\"replace\", index=False)\n",
    "        print(\"Data inserted successfully.\")\n",
    "except (sqlite3.Error, pd.errors.EmptyDataError, FileNotFoundError) as e:\n",
    "    print(\"Error inserting data:\", e)"
   ]
  },
  {
   "cell_type": "markdown",
   "metadata": {},
   "source": [
    "Here we can quickly see the top 5 rows of the table that was created running the code above."
   ]
  },
  {
   "cell_type": "code",
   "execution_count": 172,
   "metadata": {},
   "outputs": [
    {
     "data": {
      "text/html": [
       "<div>\n",
       "<style scoped>\n",
       "    .dataframe tbody tr th:only-of-type {\n",
       "        vertical-align: middle;\n",
       "    }\n",
       "\n",
       "    .dataframe tbody tr th {\n",
       "        vertical-align: top;\n",
       "    }\n",
       "\n",
       "    .dataframe thead th {\n",
       "        text-align: right;\n",
       "    }\n",
       "</style>\n",
       "<table border=\"1\" class=\"dataframe\">\n",
       "  <thead>\n",
       "    <tr style=\"text-align: right;\">\n",
       "      <th></th>\n",
       "      <th>Community Area Name</th>\n",
       "      <th>Community Area Number</th>\n",
       "      <th>Property Type</th>\n",
       "      <th>Property Name</th>\n",
       "      <th>Address</th>\n",
       "      <th>Zip Code</th>\n",
       "      <th>Phone Number</th>\n",
       "      <th>Management Company</th>\n",
       "      <th>Units</th>\n",
       "      <th>X Coordinate</th>\n",
       "      <th>Y Coordinate</th>\n",
       "      <th>Latitude</th>\n",
       "      <th>Longitude</th>\n",
       "      <th>Location</th>\n",
       "    </tr>\n",
       "  </thead>\n",
       "  <tbody>\n",
       "    <tr>\n",
       "      <th>0</th>\n",
       "      <td>Avondale</td>\n",
       "      <td>21</td>\n",
       "      <td>Multifamily</td>\n",
       "      <td>Hairpin Lofts</td>\n",
       "      <td>3414 W. Diversey Ave.</td>\n",
       "      <td>60647</td>\n",
       "      <td>773-292-6360</td>\n",
       "      <td>Leasing &amp; Management Co. Inc.</td>\n",
       "      <td>25.0</td>\n",
       "      <td>1153078.890</td>\n",
       "      <td>1918447.998</td>\n",
       "      <td>41.932073</td>\n",
       "      <td>-87.712872</td>\n",
       "      <td>None</td>\n",
       "    </tr>\n",
       "    <tr>\n",
       "      <th>1</th>\n",
       "      <td>Loop</td>\n",
       "      <td>32</td>\n",
       "      <td>ARO</td>\n",
       "      <td>1000M</td>\n",
       "      <td>1000 S. Michigan Ave.</td>\n",
       "      <td>60605</td>\n",
       "      <td>312-820-1000</td>\n",
       "      <td>Willow Bridge</td>\n",
       "      <td>23.0</td>\n",
       "      <td>1177375.505</td>\n",
       "      <td>1895971.036</td>\n",
       "      <td>41.869878</td>\n",
       "      <td>-87.624269</td>\n",
       "      <td>None</td>\n",
       "    </tr>\n",
       "    <tr>\n",
       "      <th>2</th>\n",
       "      <td>Logan Square</td>\n",
       "      <td>22</td>\n",
       "      <td>ARO</td>\n",
       "      <td>2556 Armtiage LLC</td>\n",
       "      <td>2556 W. Armitage Ave</td>\n",
       "      <td>60647</td>\n",
       "      <td>773-252-0600</td>\n",
       "      <td>North Clybourn Group</td>\n",
       "      <td>1.0</td>\n",
       "      <td>1158751.315</td>\n",
       "      <td>1913231.215</td>\n",
       "      <td>41.917643</td>\n",
       "      <td>-87.692170</td>\n",
       "      <td>(41.917642826462, -87.6921699562562)</td>\n",
       "    </tr>\n",
       "    <tr>\n",
       "      <th>3</th>\n",
       "      <td>Douglas</td>\n",
       "      <td>35</td>\n",
       "      <td>Multifamily</td>\n",
       "      <td>South Park Plaza</td>\n",
       "      <td>2600 S. King Dr.</td>\n",
       "      <td>60616</td>\n",
       "      <td>312-674-9210</td>\n",
       "      <td>Woodlawn Comm. Dev. Corp.</td>\n",
       "      <td>134.0</td>\n",
       "      <td>1179206.472</td>\n",
       "      <td>1887158.196</td>\n",
       "      <td>41.845653</td>\n",
       "      <td>-87.617816</td>\n",
       "      <td>(41.8456529117633, -87.6178163910093)</td>\n",
       "    </tr>\n",
       "    <tr>\n",
       "      <th>4</th>\n",
       "      <td>Near West Side</td>\n",
       "      <td>28</td>\n",
       "      <td>ARO</td>\n",
       "      <td>The Rosie</td>\n",
       "      <td>1461 S. Blue Island Ave.</td>\n",
       "      <td>60608</td>\n",
       "      <td>872-259-7452</td>\n",
       "      <td>The FLATS</td>\n",
       "      <td>7.0</td>\n",
       "      <td>1168331.384</td>\n",
       "      <td>1892984.019</td>\n",
       "      <td>41.861881</td>\n",
       "      <td>-87.657558</td>\n",
       "      <td>(41.86188117554516, -87.65755843617394)</td>\n",
       "    </tr>\n",
       "  </tbody>\n",
       "</table>\n",
       "</div>"
      ],
      "text/plain": [
       "  Community Area Name  Community Area Number Property Type      Property Name  \\\n",
       "0            Avondale                     21   Multifamily      Hairpin Lofts   \n",
       "1                Loop                     32           ARO              1000M   \n",
       "2        Logan Square                     22           ARO  2556 Armtiage LLC   \n",
       "3             Douglas                     35   Multifamily   South Park Plaza   \n",
       "4      Near West Side                     28           ARO          The Rosie   \n",
       "\n",
       "                    Address  Zip Code  Phone Number  \\\n",
       "0     3414 W. Diversey Ave.     60647  773-292-6360   \n",
       "1     1000 S. Michigan Ave.     60605  312-820-1000   \n",
       "2      2556 W. Armitage Ave     60647  773-252-0600   \n",
       "3          2600 S. King Dr.     60616  312-674-9210   \n",
       "4  1461 S. Blue Island Ave.     60608  872-259-7452   \n",
       "\n",
       "              Management Company  Units  X Coordinate  Y Coordinate  \\\n",
       "0  Leasing & Management Co. Inc.   25.0   1153078.890   1918447.998   \n",
       "1                  Willow Bridge   23.0   1177375.505   1895971.036   \n",
       "2           North Clybourn Group    1.0   1158751.315   1913231.215   \n",
       "3      Woodlawn Comm. Dev. Corp.  134.0   1179206.472   1887158.196   \n",
       "4                      The FLATS    7.0   1168331.384   1892984.019   \n",
       "\n",
       "    Latitude  Longitude                                 Location  \n",
       "0  41.932073 -87.712872                                     None  \n",
       "1  41.869878 -87.624269                                     None  \n",
       "2  41.917643 -87.692170     (41.917642826462, -87.6921699562562)  \n",
       "3  41.845653 -87.617816    (41.8456529117633, -87.6178163910093)  \n",
       "4  41.861881 -87.657558  (41.86188117554516, -87.65755843617394)  "
      ]
     },
     "execution_count": 172,
     "metadata": {},
     "output_type": "execute_result"
    }
   ],
   "source": [
    "pd.read_sql(\"SELECT * FROM data\", con=sqlite3.connect(db_file)).head()"
   ]
  },
  {
   "cell_type": "markdown",
   "metadata": {},
   "source": [
    "Here we can see that the top 3 most affordable housing types"
   ]
  },
  {
   "cell_type": "code",
   "execution_count": 173,
   "metadata": {},
   "outputs": [
    {
     "data": {
      "text/plain": [
       "Property Type\n",
       "Multifamily    259\n",
       "ARO            156\n",
       "Senior         106\n",
       "Name: count, dtype: int64"
      ]
     },
     "execution_count": 173,
     "metadata": {},
     "output_type": "execute_result"
    }
   ],
   "source": [
    "df.value_counts(\"Property Type\").head(3)"
   ]
  },
  {
   "cell_type": "markdown",
   "metadata": {},
   "source": [
    "The following code produces a scatter plot on a map. You will need to adjust the height according to your window size. Plot layout reference here: https://plotly.com/python/reference/"
   ]
  },
  {
   "cell_type": "code",
   "execution_count": 231,
   "metadata": {},
   "outputs": [
    {
     "data": {
      "application/vnd.plotly.v1+json": {
       "config": {
        "plotlyServerURL": "https://plot.ly"
       },
       "data": [
        {
         "hovertemplate": "color=Multifamily<br>lat=%{lat}<br>lon=%{lon}<extra></extra>",
         "lat": {
          "bdata": "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",
          "dtype": "f8"
         },
         "legendgroup": "Multifamily",
         "lon": {
          "bdata": "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",
          "dtype": "f8"
         },
         "marker": {
          "color": "#636efa",
          "size": 10
         },
         "mode": "markers",
         "name": "Multifamily",
         "showlegend": true,
         "subplot": "map",
         "type": "scattermap"
        },
        {
         "hovertemplate": "color=ARO<br>lat=%{lat}<br>lon=%{lon}<extra></extra>",
         "lat": {
          "bdata": "YkkcJljvREAjIfxRdfVEQKaRXB9S7kRALIiaS577REA7+E9Y3vhEQKnWiIEq+ERAB8PrwFr4RECfjFSMsfxEQMxr/PRl8URA+U6rbEj3RECpa+19KvZEQJcXJnST+0RASq17VJHyRECa/D8cXvlEQLW3CErZ8ERAUxuD6132REAmjRNX/PpEQK02e3cW8kRAi2NuCB/6REDge6gCKPNEQOkrBhfE9ERAe9gsE9X4REAiq7b2mfVEQNFiISFn/kRAWrXObJX7RED2zBY5WeZEQPjAVFT5+0RADSVq1IntREBWIlhuTPFEQGwrUVHQ/ERApyiwY1DzREAMNY6BCvpEQEffB5QL+kRAdZ38zI/7RECNKIrjAuZEQBio9xqj80RAxIkaEpj7REAgOzW4KfpEQI52Hg2O+0RAZYgpslL8RECyXIDHgfdEQIabQp0o60RAS+eBl7LyREBMPWb7a/VEQO37qjua8kRAHwbjdTf7RECFOtXvfPdEQPCTeoGf/ERAjXfL/g77RECnm929UPtEQPr/xAqv+kRALIIgvM3yREBfej2Qo/NEQCjzTaL3+URADTUKSWbzREDPjNntjvREQFlgPEHq70RA+VhNGTD7REAmCA2zBvpEQHLlJklb7URA5olSCAX8RECIGMgW9vtEQJ5qwjC//0RAZUiAYK/zREAXgfPaU/hEQBQ0NSJ780RADjshrnvzREBV/zkvQvFEQPq8PWM69kRAx1XZNanvREDTuQW/S/hEQKuKeAQa+ERA/IOSEzfwRECUAAw2O/VEQNwjoxwv8ERAWyCkGx/2RECSTm4lhfFEQIFffgKD8ERA+Chtu5r0REB2kTror/JEQNsqb+QN+kRAGjOJesHzREBb431mWuZEQAmCbP4E80RAdeAgSkn1REDbmMcvdvxEQEX8uyXW8kRAxdLZLIv4REDTu/x3kvJEQP+BrIZI8URA9Xn3jVDxREDD+e1O6/REQD7++yHw+ERAfLXERrD8REBonMBTTO1EQKg2ei1P+ERATiq3QETxREDXxnXfc/JEQGicwFNM7URAZ0FqC7b7REBTvMJpXvZEQLOIk8Hy+ERA4Upu+7vyRECkSnsgBfFEQOMJlH9z+0RAgZOv/GD7REDAcNfgN/dEQJqCb3mw5kRAzpTObsryREBNekqUXvBEQPcfmQ6d80RA4Upu+7vyRECDmNdTI/BEQPtsT1at9kRAXwDIpmj1REAMzZYoUgFFQCX/mzDE+URA5KqJcFn0REDTq7e8KPREQGwrUVHQ/ERAsjhzeqTxREAyw+ufTOtEQFAt6N4/8URAStXRzG71REA2h1IYZ/hEQK9Fh5eS9kRABxN3oyz3REC8/3Z2BfJEQBIEfkOX9ERAokkgLWf5REDD4f2fYPVEQA3ygqFx8URAaA+LgxH/REDEtdrD3vtEQFET4GiF8kRAoac7Li74REDaHyi37fJEQAQqsaWm8ERAHkF9DTn0REB3DDREOvhEQFwuTde09URAUvulLOD1REDnOZ6mAfxEQC3w08Co80RAlOg8lRn+REDCZ04LnPBEQLW2fGbB9ERANoS23uf0REA65Av/DvNEQItMhgSI+ERAZ5jaUgf8REDiZI8Ol+5EQDsMnCL2+0RAjZ++TLH/RECSTm4lhfFEQLs1PP9u/ERA",
          "dtype": "f8"
         },
         "legendgroup": "ARO",
         "lon": {
          "bdata": "p5q0BPTnVcBQXjuDTOxVwJDA/m8V6lXA4+TZQBXqVcDLf+0Fy+pVwJDa5dfm7lXAAQ38ydTqVcA8a5ZP/+lVwPkWlHHl6VXA2yaJ44juVcAT2Ht1vuxVwB2VF3AB6lXA8WLEstfpVcAjnNwQH+pVwIDMGDCS6VXA/m4NrnHpVcD7dDxm4O9VwIOTRGFd6VXAUW1PFFHrVcATgckRm+hVwPQpz9X561XAsw8N5srqVcBPRaZTifJVwOq48Vkk7FXAaPLm0xfsVcAYHE4uAOZVwM+2gdjl61XAnf4F5WrqVcDk2pJN4OlVwLeFviYx6lXAdNcKgbnqVcAfLjnuVPJVwBVbe37c6VXAh1lgduzqVcBhNEzpMOZVwHUD5M/g6lXAXLq0p4XpVcC69FBXzulVwE+lj47l6VXAI0PYOgLsVcC61RgZCfFVwIc95X/P51XAXLztfB7rVcAf6iVjiOxVwIX1FHPv6VXAFkv0pqDpVcBI3py+nPNVwKfkIBHo6VXAoDyomzbrVcDve6vgvelVwLZVQfMW7FXAC3DNX5noVcAO7/8E0+pVwApFHcqO6VXAGPgf07nqVcBH55nqS+tVwINZmdcu61XAiysV8enpVcBZVECxwO9VwNHuDCpc6lXAiyYGN0jrVcBFLWqD1epVwIyIINZ07FXA5pzQ0vLoVcABNEqXfupVwIGPqO2y6FXA31fd0ZzoVcAd0G/rsOpVwHkyB1qk7FXAaSWEeRXqVcApGABwzelVwP12REs/6VXAwBLd7dnpVcCRUCszAuxVwMIPUuDy6VXAA0R/cJfsVcAdVpfX+udVwG6ww9qQ6VXAp0qMTF3sVcDDneoUlOhVwE1KYsXA71XAQG+mGb3qVcB5ZIO3zeVVwOQW0mWa6FXAuG2l+PTrVcDvxRftMetVwAtWBwbx7VXAgzEBQ7/pVcDbxCS3gepVwMCKOhDl6VXAXOZ0WUzqVcD6ewgu/+tVwPUPplFW6VXAmZQntTzqVcAJXZkiBuhVwBvBQr1L6VXAe/sxtb7pVcB8K47ab+dVwAldmSIG6FXAtk8iHXnrVcAZrqtVPexVwEgiyeYJ61XAjfc+sP7pVcAJt4SVrelVwGMy6pSm6lXA4eohlqTqVcD2kmuvqvJVwOkcTT+y5VXALxylngfpVcC9CdcGG+pVwB6M2CfA6lXAjfc+sP7pVcA7oHQ7nuxVwJqNvheZ81XAX2/N49HsVcCYkXLeHOtVwD1c9hTO6lXAdmeS/djqVcDAJkrG2uhVwLeFviYx6lXAJ/TA6O7pVcBjp6t9sudVwLMvbt0s6lXAjXygDSfsVcA3cIOxsOlVwIjktyoB7VXAuaj1ApzyVcA8sE5bBOtVwIF2hxRD6VXADaTNaX3qVcDBWlJBB+xVwAbTtLQo6lXAiQ5gFdjqVcCmx759gPBVwDv4cGbH6VXAljYD+eXuVcD5+pRCJOlVwHX9aUCQ6lXAUwgFIXDsVcBIGAYsuexVwLNXSI5u6lXArWu0HGjsVcBB+2ijwOtVwEbXnrw86VXA5u2EbuHqVcBrUCye1+tVwMtp7J7+61XA4vjKUfrrVcDfoCAl9OtVwHS0yzPG6VXAZToRUCPrVcBSXxqvDuhVwIh2X98Y6lXAg8bIabrzVcAdVpfX+udVwNnfRLrA6lXA",
          "dtype": "f8"
         },
         "marker": {
          "color": "#EF553B",
          "size": 10
         },
         "mode": "markers",
         "name": "ARO",
         "showlegend": true,
         "subplot": "map",
         "type": "scattermap"
        },
        {
         "hovertemplate": "color=Senior<br>lat=%{lat}<br>lon=%{lon}<extra></extra>",
         "lat": {
          "bdata": "nszDMkvuREBkUX2M3utEQJedE7WT90RApPJd5zLkREDrUmUQBvxEQO5okECL6ERAKqIua0X4REBIDZZ/5+5EQJXjoTEL4URAfWMhna7cREAXNdIxa/pEQBneMPof+kRAHIxk0WzgREAwV9Saxf9EQAIkHnm15kRABvaYSOkBRUD+yjH2MQJFQKbic+U7/URA4MXzADP+REC7hYXF7vtEQE4z1Xrc9URA03GQax77REDio82KC/FEQCTo9Uh/2kRAecJ9qqvjREAyyF2EKfhEQOGChfZe9URAQWYEpwDTREDziQKeMNpEQFhuDnwx3kRAv6acaSH6REAhoqAtSthEQDvJ82yY7kRA0Izyii/tREDd2U+t2+5EQHgJb4sJ/kRARwrAml72RECNOmMt+ABFQPCeCzxa50RAy1wqgPPuREDON4Ft7fVEQAXmW/7H8ERA2lIoh6bdREAFvdzMDftEQODF8wAz/kRAr2req7XrREBNYyB09f5EQMtI/8PE6URA4MXzADP+REBe3QySmeBEQI06Yy34AEVAZEUmQwLpREB/cDYEZO1EQC+d/+wB4URAZcVwdYDxREAZ4lgXN9REQIFjKlg+10RAo+dY1mTiREAA01ixruVEQG0wmrZ790RASCOX5nP0REDlOL96v+NEQNCM8oov7URAH4Kq0avpREC54wtiOeREQCiXKVp39ERA/rGUVaYARUDzAHkjMfdEQOCU4nh450RAjlGm6gHnREAToOBBN99EQFcba5gE7URALFCkXuTwRECiU8LZTvpEQHyakxcZ2kRAc7/gJmXyREDrDSnMnNZEQMiV/k4o40RAEKAyQJrjREC/yoiolfpEQJL7iCWG9ERAVtKKbyj3REBgfKifffFEQL07EUiy6URAq1JhCfffREAzztcT+tZEQD41ZiuS20RAC7wwJdT+REAINpXiNuZEQKLLQApD7ERANKUvYw73REATXgaMw/BEQAHYBEEV4ERAQT3on4HjRECPzafx/+JEQIbR5hcp/0RAfU/V0hb0REAo3a9lpuREQKsWAeNT+kRAmUa0mRr+RED3C9F8Kf5EQI3egAHK5kRAgl2HSbz8REDlOL96v+NEQKBOeXQj5ERA5Zbae4bkREA=",
          "dtype": "f8"
         },
         "legendgroup": "Senior",
         "lon": {
          "bdata": "nAFHZTfqVcDgcYIdXOlVwNZ0HMMM6VXAqBtJ/vflVcC9I3xSWu1VwDdXKC1351XAH81gpaXqVcBhogdflO1VwC6oNe4J7FXAAijKznDlVcDA1t/xse9VwIgxp9MT7lXAaQwp9RvmVcCflMXUSOpVwObv9+6D6FXAI6AELnbqVcAooZFbFetVwO/LNsOP8VXAQRfkmZ3uVcBHNtsFWO9VwPOnMjHC8VXAz6AEqv3pVcBT1ojDxupVwK6wSxpE6VXA8+3ZSlrpVcCzEQSfke9VwCTsX4Io8FXAj73FYJHiVcB6o7nCuedVwLKRd1CB6lXAwDozZvfrVcClcixS1edVwPkqXAPZ51XAmg/f9DToVcDuDPAw7+dVwMvbjRWn81XAS24cyjPsVcDBIvkpkupVwDa+o4To71XAIDW7KFnqVcAQKkiesfJVwNWtQ9or8VXAk2w7jhvqVcCJPZvytOxVwEEX5Jmd7lXAk/49/CXqVcDQaMQvae1VwCFgCJTo5lXAQRfkmZ3uVcBdtb6KhONVwMEi+SmS6lXAWcK5ClLnVcCX7dhCr+lVwEGFPOUF5FXADNE6DUXxVcBkgtAwa+dVwOcbjyHZ51XANzZ9bk/qVcBDiuh0bOlVwACquHHL71XAAj4m72/uVcBokXG1I+xVwJoP3/Q06FXAm2zq2X/nVcDjk6ndyuZVwGrT4M/T7VXAUTtwjCzsVcDgog9t8vBVwCL5rUqg6lXAj6LWTYzvVcA14ck0u+ZVwNnUNzgq7lXAuZ8Z5VXuVcAXXg9HU+1VwACg9ba651XAeevbzfztVcBoLLNrr+hVwO3bpP1q6FXAJppySwztVcAVfh32CvNVwEsHiNVh7FXAWDWtuYjrVcABxJdolOxVwNej02eF51XAR58kl17sVcBXHd4YJ+lVwMO/Y9Nl5FXAz3eFeEPrVcDFjxBphOdVwJseVrC051XAMFpw1MTvVcDT89FWI+5VwLwoF7ao6VXAT2ScdXzpVcBFhvKRVuRVwI5slf3G7FXA/DQw6gHpVcDjFIDzIO1VwApOOwTn6VXADRVGJwnqVcBJXsbi8elVwC4ixHTl5lXARRfMRgTqVcBokXG1I+xVwD0UP6XO51XABrmLMEXzVcA=",
          "dtype": "f8"
         },
         "marker": {
          "color": "#00cc96",
          "size": 10
         },
         "mode": "markers",
         "name": "Senior",
         "showlegend": true,
         "subplot": "map",
         "type": "scattermap"
        },
        {
         "hovertemplate": "color=People with Disabilities<br>lat=%{lat}<br>lon=%{lon}<extra></extra>",
         "lat": {
          "bdata": "hmi+lMvlRECxe11M1PZEQOdC3e4C5URAP3iKqEvkREDIhiRpbfNEQA==",
          "dtype": "f8"
         },
         "legendgroup": "People with Disabilities",
         "lon": {
          "bdata": "sVGUU9TnVcBLJE2ThOlVwL42NMjR51XAqcyDqgfpVcCkf1Gbm+xVwA==",
          "dtype": "f8"
         },
         "marker": {
          "color": "#ab63fa",
          "size": 10
         },
         "mode": "markers",
         "name": "People with Disabilities",
         "showlegend": true,
         "subplot": "map",
         "type": "scattermap"
        },
        {
         "hovertemplate": "color=Supportive Housing<br>lat=%{lat}<br>lon=%{lon}<extra></extra>",
         "lat": {
          "bdata": "cfvM9nTfRED3EY0ozO1EQOFOlhhT8ERA4U6WGFPwREDOL636GvFEQFC4RwQd8URAYofOvrTYREA5rzWE+N5EQMBqdu6H80RArPa4iFL0RECPK4HW9ONEQI9Emj5c1kRA6K66SIDxREDMo4+35PdEQEOz421C70RAmPxP/u7zREDGFZt/ifxEQIeBtu7J40RAH4HDNKHdREB8wHYPVOVEQMK0mG3h5kRARrVnGr0ARUCxIll2d/REQPMstZxT8kRAXexqsHjZREDx6bmey/tEQACmTjii/ERA",
          "dtype": "f8"
         },
         "legendgroup": "Supportive Housing",
         "lon": {
          "bdata": "nCUzpGvmVcDVAVKTB+hVwADAVq6c7FXAAMBWrpzsVcDK5XlPafFVwF5jl6he7VXAyG8bVy3oVcDhNZ6+1ONVwM/ouxl97VXAvlXPMFLrVcDMD/m6zuhVwMWZ9DH+6FXAGYcj3UnxVcC/VL8UFu5VwIx1P+EL7lXANMiwzJPpVcBvRaSe7OlVwJ+6ydps6VXAw9lrSSDqVcCPzzuAS+lVwLUaMwXC51XAcfAaLpHqVcB8XCObzu1VwOMOJ3I57VXATkqccEroVcB4TLQW7OlVwIemy+Ya6lXA",
          "dtype": "f8"
         },
         "marker": {
          "color": "#FFA15A",
          "size": 10
         },
         "mode": "markers",
         "name": "Supportive Housing",
         "showlegend": true,
         "subplot": "map",
         "type": "scattermap"
        },
        {
         "hovertemplate": "color=Supportive/Veterans<br>lat=%{lat}<br>lon=%{lon}<extra></extra>",
         "lat": {
          "bdata": "Z6hhKkPzREBYePJE6/FEQIwLD7N65ERApesVWHjfREA=",
          "dtype": "f8"
         },
         "legendgroup": "Supportive/Veterans",
         "lon": {
          "bdata": "b6B+H+fsVcDJ8Ts0Ce1VwO2J6LZI6VXA9GTlNNfpVcA=",
          "dtype": "f8"
         },
         "marker": {
          "color": "#19d3f3",
          "size": 10
         },
         "mode": "markers",
         "name": "Supportive/Veterans",
         "showlegend": true,
         "subplot": "map",
         "type": "scattermap"
        },
        {
         "hovertemplate": "color=Supportive/Males 18-24yrs.<br>lat=%{lat}<br>lon=%{lon}<extra></extra>",
         "lat": {
          "bdata": "e/Xx0Hf0REA=",
          "dtype": "f8"
         },
         "legendgroup": "Supportive/Males 18-24yrs.",
         "lon": {
          "bdata": "ddpDkL3tVcA=",
          "dtype": "f8"
         },
         "marker": {
          "color": "#FF6692",
          "size": 10
         },
         "mode": "markers",
         "name": "Supportive/Males 18-24yrs.",
         "showlegend": true,
         "subplot": "map",
         "type": "scattermap"
        },
        {
         "hovertemplate": "color=Senior HUD 202<br>lat=%{lat}<br>lon=%{lon}<extra></extra>",
         "lat": {
          "bdata": "hUXicRPgRED35cx2BfBEQB4ePsDF30RAsQGutw/oREAM+2YwgOVEQEt1Ij0c8ERA",
          "dtype": "f8"
         },
         "legendgroup": "Senior HUD 202",
         "lon": {
          "bdata": "P8QGC+fpVcBZPIqtf+9VwMF0tXA06VXAZTudM/vnVcDTOqIp2OdVwCuRG7Bx71XA",
          "dtype": "f8"
         },
         "marker": {
          "color": "#B6E880",
          "size": 10
         },
         "mode": "markers",
         "name": "Senior HUD 202",
         "showlegend": true,
         "subplot": "map",
         "type": "scattermap"
        },
        {
         "hovertemplate": "color=SRO<br>lat=%{lat}<br>lon=%{lon}<extra></extra>",
         "lat": {
          "bdata": "6K8lHq/zREBZ6DnY0fNEQLzYrOE/7kRA",
          "dtype": "f8"
         },
         "legendgroup": "SRO",
         "lon": {
          "bdata": "8mGTiHLoVcBIGpq6hOhVwNI9Z+II6FXA",
          "dtype": "f8"
         },
         "marker": {
          "color": "#FF97FF",
          "size": 10
         },
         "mode": "markers",
         "name": "SRO",
         "showlegend": true,
         "subplot": "map",
         "type": "scattermap"
        },
        {
         "hovertemplate": "color=Supportive<br>lat=%{lat}<br>lon=%{lon}<extra></extra>",
         "lat": {
          "bdata": "GwSISO7wREAaCkxlWfhEQDMIIHNt9ERAaBH+AzT7RED8fiAvWvFEQA==",
          "dtype": "f8"
         },
         "legendgroup": "Supportive",
         "lon": {
          "bdata": "6jawbp/qVcAUIflz3+lVwCa8DBiH6FXAxXqb5U/qVcB+dtkSZulVwA==",
          "dtype": "f8"
         },
         "marker": {
          "color": "#FECB52",
          "size": 10
         },
         "mode": "markers",
         "name": "Supportive",
         "showlegend": true,
         "subplot": "map",
         "type": "scattermap"
        },
        {
         "hovertemplate": "color=Multfamily<br>lat=%{lat}<br>lon=%{lon}<extra></extra>",
         "lat": {
          "bdata": "7ziocS31REAZA8oqlfNEQA==",
          "dtype": "f8"
         },
         "legendgroup": "Multfamily",
         "lon": {
          "bdata": "IvH65XbtVcCI+MHYBulVwA==",
          "dtype": "f8"
         },
         "marker": {
          "color": "#636efa",
          "size": 10
         },
         "mode": "markers",
         "name": "Multfamily",
         "showlegend": true,
         "subplot": "map",
         "type": "scattermap"
        },
        {
         "hovertemplate": "color=Inter-generational<br>lat=%{lat}<br>lon=%{lon}<extra></extra>",
         "lat": {
          "bdata": "g/q3R0baREDHrXI21wFFQA==",
          "dtype": "f8"
         },
         "legendgroup": "Inter-generational",
         "lon": {
          "bdata": "b42dKr7nVcC4k2fihupVwA==",
          "dtype": "f8"
         },
         "marker": {
          "color": "#EF553B",
          "size": 10
         },
         "mode": "markers",
         "name": "Inter-generational",
         "showlegend": true,
         "subplot": "map",
         "type": "scattermap"
        },
        {
         "hovertemplate": "color=Women's Supportive<br>lat=%{lat}<br>lon=%{lon}<extra></extra>",
         "lat": {
          "bdata": "NYS+TzD8REA=",
          "dtype": "f8"
         },
         "legendgroup": "Women's Supportive",
         "lon": {
          "bdata": "Lj5geevpVcA=",
          "dtype": "f8"
         },
         "marker": {
          "color": "#00cc96",
          "size": 10
         },
         "mode": "markers",
         "name": "Women's Supportive",
         "showlegend": true,
         "subplot": "map",
         "type": "scattermap"
        },
        {
         "hovertemplate": "color=Veterans<br>lat=%{lat}<br>lon=%{lon}<extra></extra>",
         "lat": {
          "bdata": "BiKTpbnkRECBUChV7O5EQA==",
          "dtype": "f8"
         },
         "legendgroup": "Veterans",
         "lon": {
          "bdata": "nvoXc13pVcCBEpfKuOxVwA==",
          "dtype": "f8"
         },
         "marker": {
          "color": "#ab63fa",
          "size": 10
         },
         "mode": "markers",
         "name": "Veterans",
         "showlegend": true,
         "subplot": "map",
         "type": "scattermap"
        },
        {
         "hovertemplate": "color=SRO/Supportive<br>lat=%{lat}<br>lon=%{lon}<extra></extra>",
         "lat": {
          "bdata": "L5HBQMbzREA=",
          "dtype": "f8"
         },
         "legendgroup": "SRO/Supportive",
         "lon": {
          "bdata": "/ztHiQLpVcA=",
          "dtype": "f8"
         },
         "marker": {
          "color": "#FFA15A",
          "size": 10
         },
         "mode": "markers",
         "name": "SRO/Supportive",
         "showlegend": true,
         "subplot": "map",
         "type": "scattermap"
        },
        {
         "hovertemplate": "color=Senior Supportive Living<br>lat=%{lat}<br>lon=%{lon}<extra></extra>",
         "lat": {
          "bdata": "04g2U2P4REASE9TwLfZEQIXgAho23URA",
          "dtype": "f8"
         },
         "legendgroup": "Senior Supportive Living",
         "lon": {
          "bdata": "riQ/A6bqVcAqJNOABfNVwLDaJT/c4lXA",
          "dtype": "f8"
         },
         "marker": {
          "color": "#19d3f3",
          "size": 10
         },
         "mode": "markers",
         "name": "Senior Supportive Living",
         "showlegend": true,
         "subplot": "map",
         "type": "scattermap"
        },
        {
         "hovertemplate": "color=Mutifamily<br>lat=%{lat}<br>lon=%{lon}<extra></extra>",
         "lat": {
          "bdata": "UOx4/vruREADLl374elEQA==",
          "dtype": "f8"
         },
         "legendgroup": "Mutifamily",
         "lon": {
          "bdata": "4a25xE3qVcDzZIp7JOhVwA==",
          "dtype": "f8"
         },
         "marker": {
          "color": "#FF6692",
          "size": 10
         },
         "mode": "markers",
         "name": "Mutifamily",
         "showlegend": true,
         "subplot": "map",
         "type": "scattermap"
        },
        {
         "hovertemplate": "color=Senior LGBTQ<br>lat=%{lat}<br>lon=%{lon}<extra></extra>",
         "lat": {
          "bdata": "DUO7dUT5REA=",
          "dtype": "f8"
         },
         "legendgroup": "Senior LGBTQ",
         "lon": {
          "bdata": "qVhOpZPpVcA=",
          "dtype": "f8"
         },
         "marker": {
          "color": "#B6E880",
          "size": 10
         },
         "mode": "markers",
         "name": "Senior LGBTQ",
         "showlegend": true,
         "subplot": "map",
         "type": "scattermap"
        },
        {
         "hovertemplate": "color=Supportive/HIV/AIDS<br>lat=%{lat}<br>lon=%{lon}<extra></extra>",
         "lat": {
          "bdata": "gUqNt7LuREA=",
          "dtype": "f8"
         },
         "legendgroup": "Supportive/HIV/AIDS",
         "lon": {
          "bdata": "ZX8LeDrtVcA=",
          "dtype": "f8"
         },
         "marker": {
          "color": "#FF97FF",
          "size": 10
         },
         "mode": "markers",
         "name": "Supportive/HIV/AIDS",
         "showlegend": true,
         "subplot": "map",
         "type": "scattermap"
        },
        {
         "hovertemplate": "color=Multifamily/Artists<br>lat=%{lat}<br>lon=%{lon}<extra></extra>",
         "lat": {
          "bdata": "yXJUZrHwREA=",
          "dtype": "f8"
         },
         "legendgroup": "Multifamily/Artists",
         "lon": {
          "bdata": "wnyBcn7tVcA=",
          "dtype": "f8"
         },
         "marker": {
          "color": "#FECB52",
          "size": 10
         },
         "mode": "markers",
         "name": "Multifamily/Artists",
         "showlegend": true,
         "subplot": "map",
         "type": "scattermap"
        },
        {
         "hovertemplate": "color=Supportive/Youth/Kinship Families<br>lat=%{lat}<br>lon=%{lon}<extra></extra>",
         "lat": {
          "bdata": "PfBSZtruREA=",
          "dtype": "f8"
         },
         "legendgroup": "Supportive/Youth/Kinship Families",
         "lon": {
          "bdata": "4aD3pYLuVcA=",
          "dtype": "f8"
         },
         "marker": {
          "color": "#636efa",
          "size": 10
         },
         "mode": "markers",
         "name": "Supportive/Youth/Kinship Families",
         "showlegend": true,
         "subplot": "map",
         "type": "scattermap"
        },
        {
         "hovertemplate": "color=Artists & Families<br>lat=%{lat}<br>lon=%{lon}<extra></extra>",
         "lat": {
          "bdata": "IMOVeUziREA=",
          "dtype": "f8"
         },
         "legendgroup": "Artists & Families",
         "lon": {
          "bdata": "Kkd1+LPlVcA=",
          "dtype": "f8"
         },
         "marker": {
          "color": "#EF553B",
          "size": 10
         },
         "mode": "markers",
         "name": "Artists & Families",
         "showlegend": true,
         "subplot": "map",
         "type": "scattermap"
        },
        {
         "hovertemplate": "color=Supportive/Teenage Moms<br>lat=%{lat}<br>lon=%{lon}<extra></extra>",
         "lat": {
          "bdata": "qEuMhojyREA=",
          "dtype": "f8"
         },
         "legendgroup": "Supportive/Teenage Moms",
         "lon": {
          "bdata": "xBo245fwVcA=",
          "dtype": "f8"
         },
         "marker": {
          "color": "#00cc96",
          "size": 10
         },
         "mode": "markers",
         "name": "Supportive/Teenage Moms",
         "showlegend": true,
         "subplot": "map",
         "type": "scattermap"
        },
        {
         "hovertemplate": "color=Supportive/Kinship Families<br>lat=%{lat}<br>lon=%{lon}<extra></extra>",
         "lat": {
          "bdata": "QPoFP5rlREA=",
          "dtype": "f8"
         },
         "legendgroup": "Supportive/Kinship Families",
         "lon": {
          "bdata": "ury9lI/nVcA=",
          "dtype": "f8"
         },
         "marker": {
          "color": "#ab63fa",
          "size": 10
         },
         "mode": "markers",
         "name": "Supportive/Kinship Families",
         "showlegend": true,
         "subplot": "map",
         "type": "scattermap"
        },
        {
         "hovertemplate": "color=65+/Supportive<br>lat=%{lat}<br>lon=%{lon}<extra></extra>",
         "lat": {
          "bdata": "VBnn64ntREA=",
          "dtype": "f8"
         },
         "legendgroup": "65+/Supportive",
         "lon": {
          "bdata": "h1v0BPjuVcA=",
          "dtype": "f8"
         },
         "marker": {
          "color": "#FFA15A",
          "size": 10
         },
         "mode": "markers",
         "name": "65+/Supportive",
         "showlegend": true,
         "subplot": "map",
         "type": "scattermap"
        },
        {
         "hovertemplate": "color=Artist Live/Work Space<br>lat=%{lat}<br>lon=%{lon}<extra></extra>",
         "lat": {
          "bdata": "bcu6Xp7nREA=",
          "dtype": "f8"
         },
         "legendgroup": "Artist Live/Work Space",
         "lon": {
          "bdata": "f6zYRlnnVcA=",
          "dtype": "f8"
         },
         "marker": {
          "color": "#19d3f3",
          "size": 10
         },
         "mode": "markers",
         "name": "Artist Live/Work Space",
         "showlegend": true,
         "subplot": "map",
         "type": "scattermap"
        },
        {
         "hovertemplate": "color=Artist/Family<br>lat=%{lat}<br>lon=%{lon}<extra></extra>",
         "lat": {
          "bdata": "A7WUA6jlREA=",
          "dtype": "f8"
         },
         "legendgroup": "Artist/Family",
         "lon": {
          "bdata": "9uoEsNjnVcA=",
          "dtype": "f8"
         },
         "marker": {
          "color": "#FF6692",
          "size": 10
         },
         "mode": "markers",
         "name": "Artist/Family",
         "showlegend": true,
         "subplot": "map",
         "type": "scattermap"
        },
        {
         "hovertemplate": "color=Disabled/Homeless<br>lat=%{lat}<br>lon=%{lon}<extra></extra>",
         "lat": {
          "bdata": "1KOAH5vyREA=",
          "dtype": "f8"
         },
         "legendgroup": "Disabled/Homeless",
         "lon": {
          "bdata": "64HB+8vtVcA=",
          "dtype": "f8"
         },
         "marker": {
          "color": "#B6E880",
          "size": 10
         },
         "mode": "markers",
         "name": "Disabled/Homeless",
         "showlegend": true,
         "subplot": "map",
         "type": "scattermap"
        },
        {
         "hovertemplate": "color=Seniors<br>lat=%{lat}<br>lon=%{lon}<extra></extra>",
         "lat": {
          "bdata": "TvcRKn7iREA=",
          "dtype": "f8"
         },
         "legendgroup": "Seniors",
         "lon": {
          "bdata": "ArakH2TvVcA=",
          "dtype": "f8"
         },
         "marker": {
          "color": "#FF97FF",
          "size": 10
         },
         "mode": "markers",
         "name": "Seniors",
         "showlegend": true,
         "subplot": "map",
         "type": "scattermap"
        },
        {
         "hovertemplate": "color=Artist Housing<br>lat=%{lat}<br>lon=%{lon}<extra></extra>",
         "lat": {
          "bdata": "IMOVeUziREA=",
          "dtype": "f8"
         },
         "legendgroup": "Artist Housing",
         "lon": {
          "bdata": "Kkd1+LPlVcA=",
          "dtype": "f8"
         },
         "marker": {
          "color": "#FECB52",
          "size": 10
         },
         "mode": "markers",
         "name": "Artist Housing",
         "showlegend": true,
         "subplot": "map",
         "type": "scattermap"
        }
       ],
       "layout": {
        "autosize": true,
        "height": 800,
        "legend": {
         "bgcolor": "whitesmoke",
         "bordercolor": "Black",
         "borderwidth": 2,
         "title": {
          "font": {
           "weight": 1000
          },
          "text": "Property Types"
         },
         "tracegroupgap": 0
        },
        "map": {
         "bearing": 0,
         "center": {
          "lat": 41.87389375993311,
          "lon": -87.66766793901338
         },
         "domain": {
          "x": [
           0,
           1
          ],
          "y": [
           0,
           1
          ]
         },
         "pitch": 25,
         "style": "open-street-map",
         "zoom": 10
        },
        "mapbox": {
         "center": {
          "lat": 41.87389375993311,
          "lon": -87.66766793901338
         },
         "style": "open-street-map",
         "zoom": 10
        },
        "paper_bgcolor": "Lightsteelblue",
        "template": {
         "data": {
          "bar": [
           {
            "error_x": {
             "color": "#2a3f5f"
            },
            "error_y": {
             "color": "#2a3f5f"
            },
            "marker": {
             "line": {
              "color": "#E5ECF6",
              "width": 0.5
             },
             "pattern": {
              "fillmode": "overlay",
              "size": 10,
              "solidity": 0.2
             }
            },
            "type": "bar"
           }
          ],
          "barpolar": [
           {
            "marker": {
             "line": {
              "color": "#E5ECF6",
              "width": 0.5
             },
             "pattern": {
              "fillmode": "overlay",
              "size": 10,
              "solidity": 0.2
             }
            },
            "type": "barpolar"
           }
          ],
          "carpet": [
           {
            "aaxis": {
             "endlinecolor": "#2a3f5f",
             "gridcolor": "white",
             "linecolor": "white",
             "minorgridcolor": "white",
             "startlinecolor": "#2a3f5f"
            },
            "baxis": {
             "endlinecolor": "#2a3f5f",
             "gridcolor": "white",
             "linecolor": "white",
             "minorgridcolor": "white",
             "startlinecolor": "#2a3f5f"
            },
            "type": "carpet"
           }
          ],
          "choropleth": [
           {
            "colorbar": {
             "outlinewidth": 0,
             "ticks": ""
            },
            "type": "choropleth"
           }
          ],
          "contour": [
           {
            "colorbar": {
             "outlinewidth": 0,
             "ticks": ""
            },
            "colorscale": [
             [
              0,
              "#0d0887"
             ],
             [
              0.1111111111111111,
              "#46039f"
             ],
             [
              0.2222222222222222,
              "#7201a8"
             ],
             [
              0.3333333333333333,
              "#9c179e"
             ],
             [
              0.4444444444444444,
              "#bd3786"
             ],
             [
              0.5555555555555556,
              "#d8576b"
             ],
             [
              0.6666666666666666,
              "#ed7953"
             ],
             [
              0.7777777777777778,
              "#fb9f3a"
             ],
             [
              0.8888888888888888,
              "#fdca26"
             ],
             [
              1,
              "#f0f921"
             ]
            ],
            "type": "contour"
           }
          ],
          "contourcarpet": [
           {
            "colorbar": {
             "outlinewidth": 0,
             "ticks": ""
            },
            "type": "contourcarpet"
           }
          ],
          "heatmap": [
           {
            "colorbar": {
             "outlinewidth": 0,
             "ticks": ""
            },
            "colorscale": [
             [
              0,
              "#0d0887"
             ],
             [
              0.1111111111111111,
              "#46039f"
             ],
             [
              0.2222222222222222,
              "#7201a8"
             ],
             [
              0.3333333333333333,
              "#9c179e"
             ],
             [
              0.4444444444444444,
              "#bd3786"
             ],
             [
              0.5555555555555556,
              "#d8576b"
             ],
             [
              0.6666666666666666,
              "#ed7953"
             ],
             [
              0.7777777777777778,
              "#fb9f3a"
             ],
             [
              0.8888888888888888,
              "#fdca26"
             ],
             [
              1,
              "#f0f921"
             ]
            ],
            "type": "heatmap"
           }
          ],
          "histogram": [
           {
            "marker": {
             "pattern": {
              "fillmode": "overlay",
              "size": 10,
              "solidity": 0.2
             }
            },
            "type": "histogram"
           }
          ],
          "histogram2d": [
           {
            "colorbar": {
             "outlinewidth": 0,
             "ticks": ""
            },
            "colorscale": [
             [
              0,
              "#0d0887"
             ],
             [
              0.1111111111111111,
              "#46039f"
             ],
             [
              0.2222222222222222,
              "#7201a8"
             ],
             [
              0.3333333333333333,
              "#9c179e"
             ],
             [
              0.4444444444444444,
              "#bd3786"
             ],
             [
              0.5555555555555556,
              "#d8576b"
             ],
             [
              0.6666666666666666,
              "#ed7953"
             ],
             [
              0.7777777777777778,
              "#fb9f3a"
             ],
             [
              0.8888888888888888,
              "#fdca26"
             ],
             [
              1,
              "#f0f921"
             ]
            ],
            "type": "histogram2d"
           }
          ],
          "histogram2dcontour": [
           {
            "colorbar": {
             "outlinewidth": 0,
             "ticks": ""
            },
            "colorscale": [
             [
              0,
              "#0d0887"
             ],
             [
              0.1111111111111111,
              "#46039f"
             ],
             [
              0.2222222222222222,
              "#7201a8"
             ],
             [
              0.3333333333333333,
              "#9c179e"
             ],
             [
              0.4444444444444444,
              "#bd3786"
             ],
             [
              0.5555555555555556,
              "#d8576b"
             ],
             [
              0.6666666666666666,
              "#ed7953"
             ],
             [
              0.7777777777777778,
              "#fb9f3a"
             ],
             [
              0.8888888888888888,
              "#fdca26"
             ],
             [
              1,
              "#f0f921"
             ]
            ],
            "type": "histogram2dcontour"
           }
          ],
          "mesh3d": [
           {
            "colorbar": {
             "outlinewidth": 0,
             "ticks": ""
            },
            "type": "mesh3d"
           }
          ],
          "parcoords": [
           {
            "line": {
             "colorbar": {
              "outlinewidth": 0,
              "ticks": ""
             }
            },
            "type": "parcoords"
           }
          ],
          "pie": [
           {
            "automargin": true,
            "type": "pie"
           }
          ],
          "scatter": [
           {
            "fillpattern": {
             "fillmode": "overlay",
             "size": 10,
             "solidity": 0.2
            },
            "type": "scatter"
           }
          ],
          "scatter3d": [
           {
            "line": {
             "colorbar": {
              "outlinewidth": 0,
              "ticks": ""
             }
            },
            "marker": {
             "colorbar": {
              "outlinewidth": 0,
              "ticks": ""
             }
            },
            "type": "scatter3d"
           }
          ],
          "scattercarpet": [
           {
            "marker": {
             "colorbar": {
              "outlinewidth": 0,
              "ticks": ""
             }
            },
            "type": "scattercarpet"
           }
          ],
          "scattergeo": [
           {
            "marker": {
             "colorbar": {
              "outlinewidth": 0,
              "ticks": ""
             }
            },
            "type": "scattergeo"
           }
          ],
          "scattergl": [
           {
            "marker": {
             "colorbar": {
              "outlinewidth": 0,
              "ticks": ""
             }
            },
            "type": "scattergl"
           }
          ],
          "scattermap": [
           {
            "marker": {
             "colorbar": {
              "outlinewidth": 0,
              "ticks": ""
             }
            },
            "type": "scattermap"
           }
          ],
          "scattermapbox": [
           {
            "marker": {
             "colorbar": {
              "outlinewidth": 0,
              "ticks": ""
             }
            },
            "type": "scattermapbox"
           }
          ],
          "scatterpolar": [
           {
            "marker": {
             "colorbar": {
              "outlinewidth": 0,
              "ticks": ""
             }
            },
            "type": "scatterpolar"
           }
          ],
          "scatterpolargl": [
           {
            "marker": {
             "colorbar": {
              "outlinewidth": 0,
              "ticks": ""
             }
            },
            "type": "scatterpolargl"
           }
          ],
          "scatterternary": [
           {
            "marker": {
             "colorbar": {
              "outlinewidth": 0,
              "ticks": ""
             }
            },
            "type": "scatterternary"
           }
          ],
          "surface": [
           {
            "colorbar": {
             "outlinewidth": 0,
             "ticks": ""
            },
            "colorscale": [
             [
              0,
              "#0d0887"
             ],
             [
              0.1111111111111111,
              "#46039f"
             ],
             [
              0.2222222222222222,
              "#7201a8"
             ],
             [
              0.3333333333333333,
              "#9c179e"
             ],
             [
              0.4444444444444444,
              "#bd3786"
             ],
             [
              0.5555555555555556,
              "#d8576b"
             ],
             [
              0.6666666666666666,
              "#ed7953"
             ],
             [
              0.7777777777777778,
              "#fb9f3a"
             ],
             [
              0.8888888888888888,
              "#fdca26"
             ],
             [
              1,
              "#f0f921"
             ]
            ],
            "type": "surface"
           }
          ],
          "table": [
           {
            "cells": {
             "fill": {
              "color": "#EBF0F8"
             },
             "line": {
              "color": "white"
             }
            },
            "header": {
             "fill": {
              "color": "#C8D4E3"
             },
             "line": {
              "color": "white"
             }
            },
            "type": "table"
           }
          ]
         },
         "layout": {
          "annotationdefaults": {
           "arrowcolor": "#2a3f5f",
           "arrowhead": 0,
           "arrowwidth": 1
          },
          "autotypenumbers": "strict",
          "coloraxis": {
           "colorbar": {
            "outlinewidth": 0,
            "ticks": ""
           }
          },
          "colorscale": {
           "diverging": [
            [
             0,
             "#8e0152"
            ],
            [
             0.1,
             "#c51b7d"
            ],
            [
             0.2,
             "#de77ae"
            ],
            [
             0.3,
             "#f1b6da"
            ],
            [
             0.4,
             "#fde0ef"
            ],
            [
             0.5,
             "#f7f7f7"
            ],
            [
             0.6,
             "#e6f5d0"
            ],
            [
             0.7,
             "#b8e186"
            ],
            [
             0.8,
             "#7fbc41"
            ],
            [
             0.9,
             "#4d9221"
            ],
            [
             1,
             "#276419"
            ]
           ],
           "sequential": [
            [
             0,
             "#0d0887"
            ],
            [
             0.1111111111111111,
             "#46039f"
            ],
            [
             0.2222222222222222,
             "#7201a8"
            ],
            [
             0.3333333333333333,
             "#9c179e"
            ],
            [
             0.4444444444444444,
             "#bd3786"
            ],
            [
             0.5555555555555556,
             "#d8576b"
            ],
            [
             0.6666666666666666,
             "#ed7953"
            ],
            [
             0.7777777777777778,
             "#fb9f3a"
            ],
            [
             0.8888888888888888,
             "#fdca26"
            ],
            [
             1,
             "#f0f921"
            ]
           ],
           "sequentialminus": [
            [
             0,
             "#0d0887"
            ],
            [
             0.1111111111111111,
             "#46039f"
            ],
            [
             0.2222222222222222,
             "#7201a8"
            ],
            [
             0.3333333333333333,
             "#9c179e"
            ],
            [
             0.4444444444444444,
             "#bd3786"
            ],
            [
             0.5555555555555556,
             "#d8576b"
            ],
            [
             0.6666666666666666,
             "#ed7953"
            ],
            [
             0.7777777777777778,
             "#fb9f3a"
            ],
            [
             0.8888888888888888,
             "#fdca26"
            ],
            [
             1,
             "#f0f921"
            ]
           ]
          },
          "colorway": [
           "#636efa",
           "#EF553B",
           "#00cc96",
           "#ab63fa",
           "#FFA15A",
           "#19d3f3",
           "#FF6692",
           "#B6E880",
           "#FF97FF",
           "#FECB52"
          ],
          "font": {
           "color": "#2a3f5f"
          },
          "geo": {
           "bgcolor": "white",
           "lakecolor": "white",
           "landcolor": "#E5ECF6",
           "showlakes": true,
           "showland": true,
           "subunitcolor": "white"
          },
          "hoverlabel": {
           "align": "left"
          },
          "hovermode": "closest",
          "mapbox": {
           "style": "light"
          },
          "paper_bgcolor": "white",
          "plot_bgcolor": "#E5ECF6",
          "polar": {
           "angularaxis": {
            "gridcolor": "white",
            "linecolor": "white",
            "ticks": ""
           },
           "bgcolor": "#E5ECF6",
           "radialaxis": {
            "gridcolor": "white",
            "linecolor": "white",
            "ticks": ""
           }
          },
          "scene": {
           "xaxis": {
            "backgroundcolor": "#E5ECF6",
            "gridcolor": "white",
            "gridwidth": 2,
            "linecolor": "white",
            "showbackground": true,
            "ticks": "",
            "zerolinecolor": "white"
           },
           "yaxis": {
            "backgroundcolor": "#E5ECF6",
            "gridcolor": "white",
            "gridwidth": 2,
            "linecolor": "white",
            "showbackground": true,
            "ticks": "",
            "zerolinecolor": "white"
           },
           "zaxis": {
            "backgroundcolor": "#E5ECF6",
            "gridcolor": "white",
            "gridwidth": 2,
            "linecolor": "white",
            "showbackground": true,
            "ticks": "",
            "zerolinecolor": "white"
           }
          },
          "shapedefaults": {
           "line": {
            "color": "#2a3f5f"
           }
          },
          "ternary": {
           "aaxis": {
            "gridcolor": "white",
            "linecolor": "white",
            "ticks": ""
           },
           "baxis": {
            "gridcolor": "white",
            "linecolor": "white",
            "ticks": ""
           },
           "bgcolor": "#E5ECF6",
           "caxis": {
            "gridcolor": "white",
            "linecolor": "white",
            "ticks": ""
           }
          },
          "title": {
           "x": 0.05
          },
          "xaxis": {
           "automargin": true,
           "gridcolor": "white",
           "linecolor": "white",
           "ticks": "",
           "title": {
            "standoff": 15
           },
           "zerolinecolor": "white",
           "zerolinewidth": 2
          },
          "yaxis": {
           "automargin": true,
           "gridcolor": "white",
           "linecolor": "white",
           "ticks": "",
           "title": {
            "standoff": 15
           },
           "zerolinecolor": "white",
           "zerolinewidth": 2
          }
         }
        },
        "title": {
         "font": {
          "weight": 1000
         },
         "text": "Location of Properties",
         "x": 0.5
        }
       }
      }
     },
     "metadata": {},
     "output_type": "display_data"
    }
   ],
   "source": [
    "# plotting map using plotly\n",
    "fig = px.scatter_map(\n",
    "    zip(df[\"Latitude\"], df[\"Longitude\"]),\n",
    "    lat=df[\"Latitude\"],\n",
    "    lon=df[\"Longitude\"],\n",
    "    color=df[\"Property Type\"],\n",
    "    zoom=10,\n",
    "    map_style=\"open-street-map\",\n",
    "    title=\"Location of Properties\"\n",
    ")\n",
    "\n",
    "# settings not explicitly in scatter_map method for the map\n",
    "fig.update_layout(\n",
    "    # Can adjust accordingly\n",
    "    height=800,\n",
    "    # Width is automatically adjusted\n",
    "    title_font_weight=1000,\n",
    "    title_x=0.5,\n",
    "    legend=dict(\n",
    "        title_text=\"Property Types\",\n",
    "        title_font_weight=1000,\n",
    "        bordercolor=\"Black\",\n",
    "        borderwidth=2,\n",
    "        bgcolor=\"whitesmoke\",\n",
    "    ),\n",
    "    map=dict(\n",
    "        # North-South orientation\n",
    "        bearing=0,\n",
    "        # Center map on the middle point\n",
    "        center=dict(lat=df.Latitude.mean(), lon=df.Longitude.mean()),\n",
    "        pitch=25,\n",
    "    ),\n",
    "    autosize=True,\n",
    "    paper_bgcolor=\"Lightsteelblue\",\n",
    ")\n",
    "fig.update_traces(marker=dict(size=10))\n",
    "\n",
    "# Only if not in Jupyter notebook\n",
    "# fig.show()"
   ]
  }
 ],
 "metadata": {
  "kernelspec": {
   "display_name": ".venv",
   "language": "python",
   "name": "python3"
  },
  "language_info": {
   "codemirror_mode": {
    "name": "ipython",
    "version": 3
   },
   "file_extension": ".py",
   "mimetype": "text/x-python",
   "name": "python",
   "nbconvert_exporter": "python",
   "pygments_lexer": "ipython3",
   "version": "3.13.0"
  }
 },
 "nbformat": 4,
 "nbformat_minor": 2
}
