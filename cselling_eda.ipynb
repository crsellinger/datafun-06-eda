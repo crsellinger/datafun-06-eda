{
 "cells": [
  {
   "cell_type": "markdown",
   "metadata": {},
   "source": [
    "# Module 6: Custom Exploratory Data Analysis\n",
    "**Author: Caleb Sellinger**\n",
    "**Date: 21 February 2025**\n",
    "### Purpose:\n",
    "This project will explore affordable rental housing in the City of Chicago. We will go through the processes, methods, and techniques used to transform and manipulate data, as well as an analysis of the dataset."
   ]
  },
  {
   "cell_type": "markdown",
   "metadata": {},
   "source": [
    "## Section 1: Fetching Data\n",
    "This section of code fetches the dataset from the URL specified. The URL is a download link from Data.gov of Chicago's affordable rental housing. Two functions used to retrieve the dataset:\n",
    "1. get_csv: Retrieve .csv file from given URL and uses the below function.\n",
    "2. write_csv: Writes to new file (Affordable_Rental_Housing_Developments.csv), and saves it to a named folder (datasets).\n",
    "\n",
    "This module of code allows a reusable node for any available URL."
   ]
  },
  {
   "cell_type": "code",
   "execution_count": 2,
   "metadata": {},
   "outputs": [
    {
     "name": "stderr",
     "output_type": "stream",
     "text": [
      "\u001b[32m2025-02-16 13:55:37.936\u001b[0m | \u001b[1mINFO    \u001b[0m | \u001b[36mutils_logger\u001b[0m:\u001b[36m<module>\u001b[0m:\u001b[36m34\u001b[0m - \u001b[1mLog folder created at: logs\u001b[0m\n",
      "\u001b[32m2025-02-16 13:55:37.937\u001b[0m | \u001b[1mINFO    \u001b[0m | \u001b[36mutils_logger\u001b[0m:\u001b[36m<module>\u001b[0m:\u001b[36m41\u001b[0m - \u001b[1mLogging to file: logs\\project_log.log\u001b[0m\n",
      "\u001b[32m2025-02-16 13:55:37.938\u001b[0m | \u001b[1mINFO    \u001b[0m | \u001b[36m__main__\u001b[0m:\u001b[36mmain\u001b[0m:\u001b[36m63\u001b[0m - \u001b[1mRetrieving file...\u001b[0m\n",
      "\u001b[32m2025-02-16 13:55:37.938\u001b[0m | \u001b[1mINFO    \u001b[0m | \u001b[36m__main__\u001b[0m:\u001b[36mget_csv\u001b[0m:\u001b[36m23\u001b[0m - \u001b[1mRetrieving CSV file from https://data.cityofchicago.org/api/views/s6ha-ppgi/rows.csv?accessType=DOWNLOAD...\u001b[0m\n",
      "\u001b[32m2025-02-16 13:55:38.342\u001b[0m | \u001b[1mINFO    \u001b[0m | \u001b[36m__main__\u001b[0m:\u001b[36mwrite_csv\u001b[0m:\u001b[36m48\u001b[0m - \u001b[1mWriting data to file: test...\u001b[0m\n",
      "\u001b[32m2025-02-16 13:55:38.343\u001b[0m | \u001b[1mINFO    \u001b[0m | \u001b[36m__main__\u001b[0m:\u001b[36mwrite_csv\u001b[0m:\u001b[36m53\u001b[0m - \u001b[1mSUCCESS: data written to new file test\u001b[0m\n",
      "\u001b[32m2025-02-16 13:55:38.344\u001b[0m | \u001b[1mINFO    \u001b[0m | \u001b[36m__main__\u001b[0m:\u001b[36mget_csv\u001b[0m:\u001b[36m27\u001b[0m - \u001b[1mSuccessfully retrieved and saved file test!\u001b[0m\n"
     ]
    }
   ],
   "source": [
    "import pathlib\n",
    "import requests\n",
    "from utils_logger import logger\n",
    "\n",
    "def get_csv(save_folder: str, filename: str, url: str) -> None:\n",
    "    \"\"\"\n",
    "    Retrieve .csv file from given URL, write to new file, and save to named folder.\n",
    "\n",
    "    Arguments:\n",
    "    save_folder -- Name of folder to save to.\n",
    "    filename -- Name of file to retrieve.\n",
    "    url -- URL of .csv file to retrieve. Where to retrieve .csv file from.\n",
    "\n",
    "    Returns: None\n",
    "    \"\"\"\n",
    "    if not url:\n",
    "        logger.error(\n",
    "            \"The URL provided is empty or does not exist. Please provide a valid URL.\"\n",
    "        )\n",
    "        return\n",
    "\n",
    "    try:\n",
    "        logger.info(f\"Retrieving CSV file from {url}...\")\n",
    "        response = requests.get(url)\n",
    "        response.raise_for_status()\n",
    "        write_csv(save_folder, filename, response.text)\n",
    "        logger.info(f\"Successfully retrieved and saved file {filename}!\")\n",
    "    except requests.exceptions.HTTPError as http_err:\n",
    "        logger.error(f\"HTTP error: {http_err}\")\n",
    "    except requests.exceptions.RequestException as req_err:\n",
    "        logger.error(f\"Request error: {req_err}\")\n",
    "\n",
    "\n",
    "def write_csv(save_folder: str, filename: str, csv_data: str) -> None:\n",
    "    \"\"\"\n",
    "    Write .csv file to new file and save to folder.\n",
    "\n",
    "    Arguments:\n",
    "    save_folder -- Name of folder to save to.\n",
    "    filename -- Name of file to retrieve.\n",
    "    csv_data -- .csv content as string.\n",
    "\n",
    "    Returns: None\n",
    "    \"\"\"\n",
    "    file_path = pathlib.Path(save_folder).joinpath(filename)\n",
    "\n",
    "    try:\n",
    "        logger.info(f\"Writing data to file: {filename}...\")\n",
    "        file_path.parent.mkdir(parents=True, exist_ok=True)\n",
    "        file = file_path.open(\"w\")\n",
    "        file.write(csv_data)\n",
    "        file.close()\n",
    "        logger.info(f\"SUCCESS: data written to new file {filename}\")\n",
    "    except IOError:\n",
    "        logger.error(f\"Error writing to file: {IOError}\")\n",
    "\n",
    "\n",
    "def main():\n",
    "    \"\"\"\n",
    "    Main function for running program\n",
    "    \"\"\"\n",
    "    csv_url = \"https://data.cityofchicago.org/api/views/s6ha-ppgi/rows.csv?accessType=DOWNLOAD\"\n",
    "    logger.info(\"Retrieving file...\")\n",
    "    get_csv(\"datasets\", \"test\", csv_url)\n",
    "\n",
    "\n",
    "if __name__ == \"__main__\":\n",
    "    main()"
   ]
  }
 ],
 "metadata": {
  "kernelspec": {
   "display_name": ".venv",
   "language": "python",
   "name": "python3"
  },
  "language_info": {
   "codemirror_mode": {
    "name": "ipython",
    "version": 3
   },
   "file_extension": ".py",
   "mimetype": "text/x-python",
   "name": "python",
   "nbconvert_exporter": "python",
   "pygments_lexer": "ipython3",
   "version": "3.13.0"
  }
 },
 "nbformat": 4,
 "nbformat_minor": 2
}
